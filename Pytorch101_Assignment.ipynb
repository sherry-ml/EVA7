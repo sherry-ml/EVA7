{
  "nbformat": 4,
  "nbformat_minor": 0,
  "metadata": {
    "colab": {
      "name": "Pytorch101 Assignment.ipynb",
      "provenance": [],
      "collapsed_sections": []
    },
    "kernelspec": {
      "name": "python3",
      "display_name": "Python 3"
    },
    "language_info": {
      "name": "python"
    },
    "accelerator": "GPU"
  },
  "cells": [
    {
      "cell_type": "code",
      "metadata": {
        "id": "-p-84BVqGjmj"
      },
      "source": [
        "#Importing required libraries\n",
        "import torch\n",
        "import torch.nn as nn\n",
        "import torch.nn.functional as F\n",
        "import torchvision\n",
        "from torchvision.datasets import MNIST\n",
        "import torchvision.transforms as transforms\n",
        "from torchvision.transforms import ToTensor\n",
        "from torch.utils.data import DataLoader\n",
        "from torch.optim import Adam\n",
        "import matplotlib.pyplot as plt\n",
        "import numpy as np\n"
      ],
      "execution_count": 1,
      "outputs": []
    },
    {
      "cell_type": "code",
      "metadata": {
        "colab": {
          "base_uri": "https://localhost:8080/"
        },
        "id": "eOzcG34IGvGl",
        "outputId": "98819506-25ee-4bec-9d6c-899ea64c1fa6"
      },
      "source": [
        "# Creating train and test data sets\n",
        "train_data = MNIST(root='./data',\n",
        "                  train=True,\n",
        "                  download=True,\n",
        "                  transform=transforms.Compose([\n",
        "                      transforms.ToTensor(),\n",
        "                      transforms.Normalize(mean=(0.5), std=(0.5))\n",
        "                      ])\n",
        "                   )\n",
        "\n",
        "test_data = MNIST(root='./data',\n",
        "                 train=False,\n",
        "                 download=True,\n",
        "                 transform=ToTensor())\n"
      ],
      "execution_count": 2,
      "outputs": [
        {
          "output_type": "stream",
          "name": "stderr",
          "text": [
            "/usr/local/lib/python3.7/dist-packages/torchvision/datasets/mnist.py:498: UserWarning: The given NumPy array is not writeable, and PyTorch does not support non-writeable tensors. This means you can write to the underlying (supposedly non-writeable) NumPy array using the tensor. You may want to copy the array to protect its data or make it writeable before converting it to a tensor. This type of warning will be suppressed for the rest of this program. (Triggered internally at  /pytorch/torch/csrc/utils/tensor_numpy.cpp:180.)\n",
            "  return torch.from_numpy(parsed.astype(m[2], copy=False)).view(*s)\n"
          ]
        }
      ]
    },
    {
      "cell_type": "code",
      "metadata": {
        "id": "juDPAS8cHJLX"
      },
      "source": [
        "# Creating test and train data loaders\n",
        "train_loader = DataLoader(dataset=train_data, batch_size=128, num_workers=2, shuffle=True)\n",
        "test_loader = DataLoader(dataset=test_data, batch_size=128, num_workers=1)"
      ],
      "execution_count": 3,
      "outputs": []
    },
    {
      "cell_type": "code",
      "metadata": {
        "colab": {
          "base_uri": "https://localhost:8080/"
        },
        "id": "L9klTRS3MH1-",
        "outputId": "9934ef0e-905b-472a-9deb-35fc175e1625"
      },
      "source": [
        "len(train_data)\n",
        "# Checking length of training data"
      ],
      "execution_count": 4,
      "outputs": [
        {
          "output_type": "execute_result",
          "data": {
            "text/plain": [
              "60000"
            ]
          },
          "metadata": {},
          "execution_count": 4
        }
      ]
    },
    {
      "cell_type": "code",
      "metadata": {
        "colab": {
          "base_uri": "https://localhost:8080/"
        },
        "id": "6jmnoVvaHSyy",
        "outputId": "1ce37a7c-25eb-45b8-bdde-12d2d768e603"
      },
      "source": [
        "images, label = next(iter(train_loader))\n",
        "images.shape, label.shape\n",
        "# Checking shapes of batch input and labels"
      ],
      "execution_count": 5,
      "outputs": [
        {
          "output_type": "execute_result",
          "data": {
            "text/plain": [
              "(torch.Size([128, 1, 28, 28]), torch.Size([128]))"
            ]
          },
          "metadata": {},
          "execution_count": 5
        }
      ]
    },
    {
      "cell_type": "code",
      "metadata": {
        "colab": {
          "base_uri": "https://localhost:8080/",
          "height": 283
        },
        "id": "Ah46vomuHVqD",
        "outputId": "54e04a5f-4692-4122-c58d-98158f2923dc"
      },
      "source": [
        "plt.imshow(images[0].squeeze(), cmap='gray')\n",
        "label[0]\n",
        "#Displaying number represented by specific image"
      ],
      "execution_count": 6,
      "outputs": [
        {
          "output_type": "execute_result",
          "data": {
            "text/plain": [
              "tensor(4)"
            ]
          },
          "metadata": {},
          "execution_count": 6
        },
        {
          "output_type": "display_data",
          "data": {
            "image/png": "[encoded data removed]",
            "text/plain": [
              "<Figure size 432x288 with 1 Axes>"
            ]
          },
          "metadata": {
            "needs_background": "light"
          }
        }
      ]
    },
    {
      "cell_type": "markdown",
      "metadata": {
        "id": "dzewQfQnuEx7"
      },
      "source": [
        "Class for MNIST prediction. This is pretty simple dataset. We dont need convolutions here to accomplish the purpose here. We split the task in two parts. First we will train MNIST . And then use another class to combine MNIST prediction and random number.\n"
      ]
    },
    {
      "cell_type": "code",
      "metadata": {
        "id": "t5l6rwpCHqKB"
      },
      "source": [
        "class MNISTpred(nn.Module):\n",
        "    def __init__(self):\n",
        "        super().__init__()\n",
        "        self.fc = nn.Sequential(nn.Linear(784,128, bias=False),\n",
        "                                  nn.ReLU(inplace=True),\n",
        "                                  nn.Dropout(0.3),\n",
        "                                  nn.Linear(128,32, bias=False),\n",
        "                                  nn.ReLU(inplace=True),\n",
        "                                  nn.Dropout(0.3),\n",
        "                                  nn.Linear(32,10)\n",
        "                                  )\n",
        "            \n",
        "            \n",
        "                 \n",
        "        \n",
        "    def forward(self, x):\n",
        "      x = x.reshape(-1,784)\n",
        "      x = self.fc(x)\n",
        "      return x"
      ],
      "execution_count": 7,
      "outputs": []
    },
    {
      "cell_type": "code",
      "metadata": {
        "id": "WE1boKopJ9H2"
      },
      "source": [
        "model_mnist = MNISTpred().to('cuda')\n",
        "# Instantiating MNIST prediction model and sending it to GPU"
      ],
      "execution_count": 8,
      "outputs": []
    },
    {
      "cell_type": "code",
      "metadata": {
        "id": "FbpfM6xSHXyS"
      },
      "source": [
        "lr = 0.002\n",
        "opt_mnist = Adam(model_mnist.parameters(), lr)\n",
        "# instantiating optimizer with learning rate. We use Adam optimizer here which is best of the optimizers used in training neural networks"
      ],
      "execution_count": 9,
      "outputs": []
    },
    {
      "cell_type": "code",
      "metadata": {
        "colab": {
          "base_uri": "https://localhost:8080/"
        },
        "id": "2mgxJWaXKbdj",
        "outputId": "bf7a28f0-f11c-4185-85dd-6d97b017fcb4"
      },
      "source": [
        "# We will train only for 4 epochs as we cross 90% accuracy in just 4 epochs. Higher accuracy is not required in this assignment.\n",
        "num_epochs = 4\n",
        "\n",
        "total_loss = 0\n",
        "total_correct = 0\n",
        "for epochs in range(1, num_epochs+1): ## Looping through epochs\n",
        "  total_loss = 0\n",
        "  total_correct = 0\n",
        "  for batch, labels in train_loader: ## Looping through train loader, extracting batches of data\n",
        "    batch = batch.to('cuda')  ## Sending batch data to GPU\n",
        "    labels = labels.to('cuda') ## Sending labels data GPU\n",
        "    pred = model_mnist(batch) ## Getting predictions from model\n",
        "# We will use cross_entropy here as we have 10 outputs here. It will use softmax internally and then calculate loss. We will be summing up the loss for each \n",
        "# datapoint in batch and then sum it up. Later we will divide the sum of losses of all datapoints by dataset length to get average loss per datapoint. This should\n",
        "# decrease as training progresses.\n",
        "    loss = F.cross_entropy(pred, labels, reduction='sum') # Sum of losses for all datapoints in current batch\n",
        "    opt_mnist.zero_grad() # Zeroing out the gradients\n",
        "    loss.backward() ## Calculating and updating the gradients\n",
        "    opt_mnist.step() ## Adjusting weights and biases as per gradients calculated in step above\n",
        "    total_loss = total_loss + loss.item() # Total loss in this epoch till this point of time\n",
        "    correct = torch.argmax(pred, dim=1).eq(labels).sum().item() # How many datapoints were accurately predicted in this batch\n",
        "    total_correct = total_correct + correct # How many datapoints have been correctly predicted in this epoch till this point of time\n",
        "  print(f'Epoch : {epochs} , Average Loss per datapoint : {total_loss/len(train_data)}, Correct Prediction : {total_correct}')"
      ],
      "execution_count": 10,
      "outputs": [
        {
          "output_type": "stream",
          "name": "stdout",
          "text": [
            "Epoch : 1 , Average Loss per datapoint : 0.6568013999621073, Correct Prediction : 47666\n",
            "Epoch : 2 , Average Loss per datapoint : 0.3729534731864929, Correct Prediction : 53435\n",
            "Epoch : 3 , Average Loss per datapoint : 0.3277930415153503, Correct Prediction : 54291\n",
            "Epoch : 4 , Average Loss per datapoint : 0.29863061226209003, Correct Prediction : 54832\n"
          ]
        }
      ]
    },
    {
      "cell_type": "code",
      "metadata": {
        "id": "omYhhzFvOBLI"
      },
      "source": [
        "image, label = next(iter(test_loader))"
      ],
      "execution_count": 11,
      "outputs": []
    },
    {
      "cell_type": "code",
      "metadata": {
        "colab": {
          "base_uri": "https://localhost:8080/"
        },
        "id": "IfHbwjeoY3di",
        "outputId": "24d0449a-2f12-4c45-8c0e-cda81ee048e8"
      },
      "source": [
        "image[2].shape, label[2]"
      ],
      "execution_count": 12,
      "outputs": [
        {
          "output_type": "execute_result",
          "data": {
            "text/plain": [
              "(torch.Size([1, 28, 28]), tensor(1))"
            ]
          },
          "metadata": {},
          "execution_count": 12
        }
      ]
    },
    {
      "cell_type": "code",
      "metadata": {
        "colab": {
          "base_uri": "https://localhost:8080/"
        },
        "id": "x3xUgh9Zcnnb",
        "outputId": "08701051-6058-424a-de08-7f80933ee133"
      },
      "source": [
        "model_mnist.eval()\n",
        "test_pred = model_mnist(image[2].to('cuda'))\n",
        "torch.argmax(test_pred, dim=1).eq(label[2])\n",
        "# Checking on evaluation of test data before actually inputting into class that will combine mnist output and random number"
      ],
      "execution_count": 13,
      "outputs": [
        {
          "output_type": "execute_result",
          "data": {
            "text/plain": [
              "tensor([True], device='cuda:0')"
            ]
          },
          "metadata": {},
          "execution_count": 13
        }
      ]
    },
    {
      "cell_type": "code",
      "metadata": {
        "colab": {
          "base_uri": "https://localhost:8080/"
        },
        "id": "IByW8VxXdbWG",
        "outputId": "57f693f9-800a-40ab-defb-68102a257b2d"
      },
      "source": [
        "torch.argmax(test_pred, dim=1).item()"
      ],
      "execution_count": 14,
      "outputs": [
        {
          "output_type": "execute_result",
          "data": {
            "text/plain": [
              "1"
            ]
          },
          "metadata": {},
          "execution_count": 14
        }
      ]
    },
    {
      "cell_type": "code",
      "metadata": {
        "colab": {
          "base_uri": "https://localhost:8080/"
        },
        "id": "ZxC__4I4j2HF",
        "outputId": "22f1513a-d7ef-42b3-df4e-9b9261da1f0d"
      },
      "source": [
        "np.random.randint(10)"
      ],
      "execution_count": 15,
      "outputs": [
        {
          "output_type": "execute_result",
          "data": {
            "text/plain": [
              "3"
            ]
          },
          "metadata": {},
          "execution_count": 15
        }
      ]
    },
    {
      "cell_type": "code",
      "metadata": {
        "id": "PERH-8_pdeEM"
      },
      "source": [
        "# Class to sum the predicted label of MNIST dataset and random number. \n",
        "class mnist_sum_rand(nn.Module):\n",
        "  def __init__(self):\n",
        "    super().__init__()\n",
        "\n",
        "  def forward(self, x, r):\n",
        "    model_mnist.eval()\n",
        "    test_pred = model_mnist(x.to('cuda')) # Inputs single image into mnist prediction model\n",
        "    print(\"Predicted output on MNIST test data is  \", torch.argmax(test_pred, dim=1).item()) # Getting predicted output of mnist image inputted above\n",
        "    print(\"Random number inputted is \", r)\n",
        "    result = torch.argmax(test_pred, dim=1).item() \n",
        "    out = result + r # Summing up mnist output and random number\n",
        "    print(\"sum of mnist prediction and random number is \", out)\n",
        "    return  result, out # Sending mnist prediction and sum of mnist prediction and random number as return value"
      ],
      "execution_count": 16,
      "outputs": []
    },
    {
      "cell_type": "code",
      "metadata": {
        "id": "ZOr8fJ7jkaq1"
      },
      "source": [
        "model = mnist_sum_rand().to('cuda') # Instantiating and Sending model to GPU"
      ],
      "execution_count": 17,
      "outputs": []
    },
    {
      "cell_type": "code",
      "metadata": {
        "colab": {
          "base_uri": "https://localhost:8080/"
        },
        "id": "z8aspO1IlVK0",
        "outputId": "fd266e19-a1cf-40c9-9f3f-aadada57c5bb"
      },
      "source": [
        "mnist_result, sm = model(image[2], np.random.randint(10)) # Calling the model to predict mnist label and sum it up with random number\n",
        "mnist_result, sm"
      ],
      "execution_count": 18,
      "outputs": [
        {
          "output_type": "stream",
          "name": "stdout",
          "text": [
            "Predicted output on MNIST test data is   1\n",
            "Random number inputted is  2\n",
            "sum of mnist prediction and random number is  3\n"
          ]
        },
        {
          "output_type": "execute_result",
          "data": {
            "text/plain": [
              "(1, 3)"
            ]
          },
          "metadata": {},
          "execution_count": 18
        }
      ]
    },
    {
      "cell_type": "code",
      "metadata": {
        "colab": {
          "base_uri": "https://localhost:8080/"
        },
        "id": "anm-s-k-l6b1",
        "outputId": "235bfb36-053d-4e37-ebd1-ebffbaf07530"
      },
      "source": [
        "sm = model(image[5], np.random.randint(10))\n",
        "sm, label[5].item()"
      ],
      "execution_count": 19,
      "outputs": [
        {
          "output_type": "stream",
          "name": "stdout",
          "text": [
            "Predicted output on MNIST test data is   1\n",
            "Random number inputted is  3\n",
            "sum of mnist prediction and random number is  4\n"
          ]
        },
        {
          "output_type": "execute_result",
          "data": {
            "text/plain": [
              "((1, 4), 1)"
            ]
          },
          "metadata": {},
          "execution_count": 19
        }
      ]
    },
    {
      "cell_type": "code",
      "metadata": {
        "id": "g19fQAcRmHRJ"
      },
      "source": [
        ""
      ],
      "execution_count": 19,
      "outputs": []
    }
  ]
}